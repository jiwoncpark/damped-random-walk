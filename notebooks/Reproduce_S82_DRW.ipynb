{
 "cells": [
  {
   "cell_type": "code",
   "execution_count": 20,
   "metadata": {},
   "outputs": [
    {
     "name": "stdout",
     "output_type": "stream",
     "text": [
      "The autoreload extension is already loaded. To reload it, use:\n",
      "  %reload_ext autoreload\n"
     ]
    }
   ],
   "source": [
    "import sys, os\n",
    "import pandas as pd\n",
    "import numpy as np\n",
    "import matplotlib.pyplot as plt\n",
    "import plotting_utils\n",
    "%matplotlib inline\n",
    "%load_ext autoreload\n",
    "%autoreload 2"
   ]
  },
  {
   "cell_type": "markdown",
   "metadata": {},
   "source": [
    "## Reproducing the DRW Parameter Distributions for the SDSS S82 AGN\n",
    "\n",
    "__Author:__ Ji Won Park (@jiwoncpark) <br>\n",
    "__Created:__ 08/08/2019 <br>\n",
    "__Last run:__ 10/30/2019 <br>\n",
    "__Goals:__\n",
    "- Reproduce the plots in [MacLeod et al 2010](https://iopscience.iop.org/article/10.1088/0004-637X/721/2/1014) describing the dependence of the damped random walk (DRW) parameters on physical properties\n",
    "- Confirm that my plotting code is consistent with that used by MacLeod et al 2010, so that it could be used to validate the DC2 AGN (see separate notebook: `Validate_DC2_DRW.ipynb`)"
   ]
  },
  {
   "cell_type": "markdown",
   "metadata": {},
   "source": [
    "### About the data\n",
    "\n",
    "MacLeod et al have published the data used in their 2010 modeling of AGN variability as a DRW [here](http://faculty.washington.edu/ivezic/macleod/qso_dr7/Southern.html). The page also has a detailed description of the schema. We'll first read in two of their data files summarizing the AGN light curves:\n",
    "- `s82drw_<bandpass>.dat` contain the DRW parameters (called `drw` in the code)\n",
    "- `DB_QSO_S82.dat` contains the black hole properties from the [Shen et al 2008](https://iopscience.iop.org/article/10.1086/587475) catalog for the same AGN (called `shen` in the code)\n",
    "\n",
    "If you are working locally, download the data using the below instructions and change the paths `drw_path` and `shen_path` accordingly. If you're on the NERSC Jupyter environment, you don't have to do anything, as the datasets have been prefetched to my `cscratch1` space.\n",
    "\n",
    "### Downloading the data\n",
    "\n",
    "You can get them by running:\n",
    "```bash\n",
    "wget http://faculty.washington.edu/ivezic/macleod/qso_dr7/s82drw.tar.gz\n",
    "tar -xvzf s8drw.tar.gz\n",
    "wget http://faculty.washington.edu/ivezic/macleod/qso_dr7/DB_QSO_S82.dat.gz\n",
    "gunzip DB_QSO_S82.dat.gz\n",
    "```"
   ]
  },
  {
   "cell_type": "code",
   "execution_count": 42,
   "metadata": {},
   "outputs": [],
   "source": [
    "# Paths to the data files, modify for your system\n",
    "drw_path = '/global/cscratch1/sd/jwp/agn_validation/sdss_s82_agn_data/s82drw_{:s}.dat'\n",
    "shen_path = '/global/cscratch1/sd/jwp/agn_validation/sdss_s82_agn_data/DB_QSO_S82.dat'"
   ]
  },
  {
   "cell_type": "code",
   "execution_count": 43,
   "metadata": {},
   "outputs": [],
   "source": [
    "# Define global quantities\n",
    "\n",
    "# Normalizing wavelength\n",
    "wavelength_norm = 4000.0 # in angstroms\n",
    "# Central wavelength (value) for each SDSS bandpass (key) used to estimate the rest-frame wavelength\n",
    "wavelength_center = {'u': 3520.0, 'g': 4800.0, 'r': 6250.0, 'i': 7690.0, 'z': 9110.0} # iM_i_kcorr_xn angstroms\n",
    "# Color (value) for each SDSS bandpass (key) used for plotting\n",
    "color_dict = {'u': 'magenta', 'g': 'blue', 'r': 'green', 'i': 'orange', 'z': 'red'}"
   ]
  },
  {
   "cell_type": "code",
   "execution_count": 44,
   "metadata": {},
   "outputs": [],
   "source": [
    "# Read DRW parameter data files, `s82drw_<bandpass>.dat`\n",
    "\n",
    "\n",
    "drw_columns = ['SDR5ID', 'ra', 'dec', 'redshift', 'M_i', 'log_mass_BH', 'chi2',\n",
    "               'log_tau', 'log_sighat', 'log_tau_lowlim', 'log_tau_uplim', 'log_sfhat_lowlim', 'log_sfhat_uplim',\n",
    "               'edge', 'll_model', 'll_noise', 'll_inf', 'mu', 'N_obs'] # taken from schema page\n",
    "\n",
    "# Dictionary of pandas dataframes, each dataframe representing the band\n",
    "drw_dict = {} \n",
    "for bp in 'ugriz':\n",
    "    drw_bp = pd.read_csv(drw_path.format(bp), index_col=False, sep='\\s+', skiprows=3, names=drw_columns)\n",
    "    # z correction\n",
    "    z_corr = 1.0/(1.0 + drw_bp['redshift'].values)\n",
    "    # normalized rest-frame wavelength\n",
    "    drw_bp['rf_wavelength'] = wavelength_center[bp]*z_corr/wavelength_norm \n",
    "    drw_bp['log_rf_wavelength'] = np.log10(drw_bp['rf_wavelength'].values)\n",
    "    # log of rest-frame tau in days\n",
    "    drw_bp['log_rf_tau'] = drw_bp['log_tau'].values - np.log10(1.0 + drw_bp['redshift'].values)\n",
    "    # log of SF_inf in mag (with the proper unit conversion, see Note (4) in schema)\n",
    "    drw_bp['log_sf_inf'] = drw_bp['log_sighat'].values + 0.5*drw_bp['log_rf_tau'] - 0.5*np.log10(365.0)\n",
    "    drw_bp['bandpass'] = bp\n",
    "    drw_bp['id'] = np.arange(len(drw_bp)) # can't use SDR5ID b/c collapses new QSOs as -1 (not unique)\n",
    "    drw_dict[bp] = drw_bp\n",
    "\n",
    "# Concatenate across bands\n",
    "drw_all = pd.concat(drw_dict.values(), axis=0) "
   ]
  },
  {
   "cell_type": "code",
   "execution_count": 45,
   "metadata": {},
   "outputs": [],
   "source": [
    "# Read Shen data file, `DB_QSO_S82.dat`\n",
    "\n",
    "shen_columns = ['dbID', 'ra', 'dec', 'SDR5ID', 'M_i', 'M_i_kcorr2', 'redshift', 'mass_BH', 'Lbol', \n",
    "                'u', 'g', 'r', 'i', 'z', 'Au']\n",
    "\n",
    "shen = pd.read_csv(shen_path, index_col=False, sep='\\s+', skiprows=2, names=shen_columns)"
   ]
  },
  {
   "cell_type": "markdown",
   "metadata": {},
   "source": [
    "We will need the `drw` catalog for the DRW fit parameters and the `shen` catalog for the black hole properties so we merge the two for convenience."
   ]
  },
  {
   "cell_type": "code",
   "execution_count": 46,
   "metadata": {},
   "outputs": [
    {
     "data": {
      "text/plain": [
       "array(['SDR5ID', 'ra', 'dec', 'redshift', 'M_i', 'log_mass_BH', 'chi2',\n",
       "       'log_tau', 'log_sighat', 'log_tau_lowlim', 'log_tau_uplim',\n",
       "       'log_sfhat_lowlim', 'log_sfhat_uplim', 'edge', 'll_model',\n",
       "       'll_noise', 'll_inf', 'mu', 'N_obs', 'rf_wavelength',\n",
       "       'log_rf_wavelength', 'log_rf_tau', 'log_sf_inf', 'bandpass', 'id',\n",
       "       'dbID', 'SDR5ID_shen', 'M_i_shen', 'M_i_kcorr2', 'redshift_shen',\n",
       "       'mass_BH', 'Lbol', 'u', 'g', 'r', 'i', 'z', 'Au'], dtype=object)"
      ]
     },
     "execution_count": 46,
     "metadata": {},
     "output_type": "execute_result"
    }
   ],
   "source": [
    "merged = drw_all.merge(shen, on=['ra', 'dec'], how='inner', suffixes=('', '_shen'))\n",
    "merged.columns.values"
   ]
  },
  {
   "cell_type": "markdown",
   "metadata": {},
   "source": [
    "Let's check if the K-corrected (z=0) i-band absolute magnitudes and the redshifts in the `s82_drw_*.dat` catalog and the `DB_QSO_S82.dat` (Shen et al 2008) catalog are consistent."
   ]
  },
  {
   "cell_type": "code",
   "execution_count": 47,
   "metadata": {},
   "outputs": [],
   "source": [
    "np.testing.assert_array_almost_equal(merged['M_i'].values, merged['M_i_shen'].values)\n",
    "np.testing.assert_array_almost_equal(merged['redshift'].values, merged['redshift_shen'].values)"
   ]
  },
  {
   "cell_type": "markdown",
   "metadata": {},
   "source": [
    "It turns out we can use either our own `id` column or Shen's `dbID` column as unique QSO identifiers. There are 9258 unique QSOs."
   ]
  },
  {
   "cell_type": "code",
   "execution_count": 48,
   "metadata": {},
   "outputs": [
    {
     "name": "stdout",
     "output_type": "stream",
     "text": [
      "9258 9258\n"
     ]
    }
   ],
   "source": [
    "print(merged['id'].nunique(), merged['dbID'].nunique())"
   ]
  },
  {
   "cell_type": "markdown",
   "metadata": {},
   "source": [
    "### Note on the dataset size\n",
    "\n",
    "The paper says there are 9275 AGN, but the dataset only contains 9258. This is because 17 of the quasars had been demoted between the time of the publication and the time of the DR7 release. Details of this revision are [here](http://faculty.washington.edu/ivezic/macleod/qso_dr7/revisions.html)."
   ]
  },
  {
   "cell_type": "code",
   "execution_count": 49,
   "metadata": {},
   "outputs": [
    {
     "name": "stdout",
     "output_type": "stream",
     "text": [
      "u (9258, 25)\n",
      "g (9258, 25)\n",
      "r (9258, 25)\n",
      "i (9258, 25)\n",
      "z (9258, 25)\n"
     ]
    }
   ],
   "source": [
    "for bp, bp_drw in drw_dict.items():\n",
    "    print(bp, bp_drw.shape)"
   ]
  },
  {
   "cell_type": "markdown",
   "metadata": {},
   "source": [
    "### Selections\n",
    "\n",
    "MacLeod et al applies three rounds of selection, which enforce the following criteria:\n",
    "1. $N_{obs} >= 10$ (remove ones with too-few observations)\n",
    "2. $ln \\left( \\frac{L_{model}}{L_{noise}} \\right) > 2$ where $L_{model}$, $L_{noise}$ are model and noise likelihoods, respectively (remove ones better explained by uncorrelated noise than the model, i.e. too-noisy light curves)\n",
    "3. $ln \\left( \\frac{L_{model}}{L_{\\infty}} \\right) > 0.05$ where $L_\\infty$ is the likelihood that $\\tau \\rightarrow \\infty$ (remove ones with light curves so short that the fitted $\\tau$ is a lower limit)"
   ]
  },
  {
   "cell_type": "code",
   "execution_count": 50,
   "metadata": {},
   "outputs": [
    {
     "name": "stdout",
     "output_type": "stream",
     "text": [
      "Before selection:  46290\n",
      "After Selection 1:  45735\n",
      "removed  555\n",
      "After Selection 2:  42580\n",
      "removed  3155\n",
      "After Selection 3:  33238\n",
      "removed  9342\n"
     ]
    }
   ],
   "source": [
    "# Apply selection\n",
    "\n",
    "before_cut = len(merged)\n",
    "print(\"Before selection: \", before_cut)\n",
    "## 1.\n",
    "#merged = merged.query('(log_tau != -10.0) & (log_sighat != -10.0)') # same result as below\n",
    "merged = merged.query('N_obs >= 10')\n",
    "after_1 = len(merged)\n",
    "print(\"After Selection 1: \", after_1)\n",
    "print(\"removed \", before_cut - after_1)\n",
    "# 2.\n",
    "merged['del_noise'] = merged['ll_model'] - merged['ll_noise']\n",
    "merged = merged.query('del_noise > 2.0')\n",
    "after_2 = len(merged)\n",
    "print(\"After Selection 2: \", after_2)\n",
    "print(\"removed \", after_1 - after_2)\n",
    "# 3.\n",
    "merged['del_inf'] = merged['ll_model'] - merged['ll_inf']\n",
    "merged = merged.query('del_inf > 0.05')\n",
    "after_3 = len(merged)\n",
    "print(\"After Selection 3: \", after_3)\n",
    "print(\"removed \", after_2 - after_3)"
   ]
  },
  {
   "cell_type": "markdown",
   "metadata": {},
   "source": [
    "As suggested in Note (5) in the [schema description](http://faculty.washington.edu/ivezic/macleod/qso_dr7/Southern_format_drw.html), we'll also remove AGN on the edge of grid or too close to the edge for a proper centroid peak estimation."
   ]
  },
  {
   "cell_type": "code",
   "execution_count": 51,
   "metadata": {},
   "outputs": [
    {
     "name": "stdout",
     "output_type": "stream",
     "text": [
      "After edge cut:  33236\n",
      "removed  2\n"
     ]
    }
   ],
   "source": [
    "merged = merged.query('edge == 0')\n",
    "after_edgecut = len(merged)\n",
    "print(\"After edge cut: \", after_edgecut)\n",
    "print(\"removed \", after_3 - after_edgecut)"
   ]
  },
  {
   "cell_type": "markdown",
   "metadata": {},
   "source": [
    "As `SF_inf` is very sensitive to the magnitude selection, we will need to match the r-band distribution with the S82 data if we ever want to compare another dataset with S82."
   ]
  },
  {
   "cell_type": "code",
   "execution_count": 52,
   "metadata": {},
   "outputs": [],
   "source": [
    "selected = merged[merged['i'] < 20.5].copy()"
   ]
  },
  {
   "cell_type": "code",
   "execution_count": 53,
   "metadata": {},
   "outputs": [],
   "source": [
    "area = 290 # sq deg"
   ]
  },
  {
   "cell_type": "code",
   "execution_count": 54,
   "metadata": {},
   "outputs": [
    {
     "data": {
      "text/plain": [
       "Text(0.5, 0, 'S82 r (mag)')"
      ]
     },
     "execution_count": 54,
     "metadata": {},
     "output_type": "execute_result"
    },
    {
     "data": {
      "image/png": "[encoded data removed]",
      "text/plain": [
       "<Figure size 432x288 with 1 Axes>"
      ]
     },
     "metadata": {
      "needs_background": "light"
     },
     "output_type": "display_data"
    }
   ],
   "source": [
    "bins=np.linspace(17, 21.5, 30)\n",
    "#_ = plt.hist(merged['r'].values, weights=np.ones_like(merged['r'].values)/area, bins=bins, edgecolor='k', label='before i < 20.5', alpha=0.5)\n",
    "_ = plt.hist(selected['r'].values, weights=np.ones_like(selected['r'].values)/area, bins=bins, edgecolor='k', label='after i < 20.5', alpha=0.5)\n",
    "#_ = plt.hist(selected.loc[selected['duty_cycle']==True]['r'].values, weights=np.ones_like(selected.loc[selected['duty_cycle']==True]['r'].values)/area, bins=bins, edgecolor='k', label='duty cycle on', alpha=0.5)\n",
    "\n",
    "plt.yscale('log', nonposy='clip')\n",
    "plt.ylim([1, 500])\n",
    "plt.ylabel(\"count/sq deg\")\n",
    "plt.xlabel(\"S82 r (mag)\")\n",
    "#plt.legend()"
   ]
  },
  {
   "cell_type": "code",
   "execution_count": 55,
   "metadata": {},
   "outputs": [
    {
     "data": {
      "text/plain": [
       "Text(0.5, 0, 'S82 i (mag)')"
      ]
     },
     "execution_count": 55,
     "metadata": {},
     "output_type": "execute_result"
    },
    {
     "data": {
      "image/png": "[encoded data removed]",
      "text/plain": [
       "<Figure size 432x288 with 1 Axes>"
      ]
     },
     "metadata": {
      "needs_background": "light"
     },
     "output_type": "display_data"
    }
   ],
   "source": [
    "bins=np.linspace(17, 21.5, 30)\n",
    "#_ = plt.hist(merged['i'].values, weights=np.ones_like(merged['r'].values)/area, bins=bins, edgecolor='k', label='before i < 20.5', alpha=0.5)\n",
    "_ = plt.hist(selected['i'].values, weights=np.ones_like(selected['r'].values)/area, bins=bins, edgecolor='k', label='after i < 20.5', alpha=0.5)\n",
    "#_ = plt.hist(selected.loc[selected['duty_cycle']==True]['r'].values, weights=np.ones_like(selected.loc[selected['duty_cycle']==True]['r'].values)/area, bins=bins, edgecolor='k', label='duty cycle on', alpha=0.5)\n",
    "\n",
    "plt.yscale('log', nonposy='clip')\n",
    "plt.ylim([1, 500])\n",
    "plt.ylabel(\"count/sq deg\")\n",
    "plt.xlabel(\"S82 i (mag)\")\n",
    "#plt.legend()"
   ]
  },
  {
   "cell_type": "code",
   "execution_count": 56,
   "metadata": {},
   "outputs": [
    {
     "data": {
      "text/plain": [
       "Text(0.5, 0, 'S82 i (mag)')"
      ]
     },
     "execution_count": 56,
     "metadata": {},
     "output_type": "execute_result"
    },
    {
     "data": {
      "image/png": "[encoded data removed]",
      "text/plain": [
       "<Figure size 432x288 with 1 Axes>"
      ]
     },
     "metadata": {
      "needs_background": "light"
     },
     "output_type": "display_data"
    }
   ],
   "source": [
    "_ = plt.hist(merged['i'].values, bins=10**np.linspace(np.log10(15), np.log10(21), 30), edgecolor='k')\n",
    "plt.yscale('log', nonposy='clip')\n",
    "plt.gca().set_xscale('log')\n",
    "plt.gca().set_xticks(np.arange(15, 21, 1))\n",
    "plt.gca().set_xticklabels(np.arange(15, 21, 1))\n",
    "plt.ylabel(\"count\")\n",
    "plt.xlabel(\"S82 i (mag)\")"
   ]
  },
  {
   "cell_type": "code",
   "execution_count": 57,
   "metadata": {},
   "outputs": [
    {
     "data": {
      "text/plain": [
       "Text(0.5, 0, 'S82 u (mag)')"
      ]
     },
     "execution_count": 57,
     "metadata": {},
     "output_type": "execute_result"
    },
    {
     "data": {
      "image/png": "[encoded data removed]",
      "text/plain": [
       "<Figure size 432x288 with 1 Axes>"
      ]
     },
     "metadata": {
      "needs_background": "light"
     },
     "output_type": "display_data"
    }
   ],
   "source": [
    "_ = plt.hist(merged['u'].values, weights=np.ones_like(merged['r'].values)/area, bins=np.linspace(15, 23, 30), edgecolor='k')\n",
    "plt.yscale('log', nonposy='clip')\n",
    "plt.ylim([1, 500])\n",
    "plt.ylabel(\"count/sq deg\")\n",
    "plt.xlabel(\"S82 u (mag)\")"
   ]
  },
  {
   "cell_type": "code",
   "execution_count": 59,
   "metadata": {},
   "outputs": [
    {
     "name": "stdout",
     "output_type": "stream",
     "text": [
      "M_i brightest: -29.563000\n"
     ]
    },
    {
     "data": {
      "text/plain": [
       "Text(0.5, 0, 'M_i (mag)')"
      ]
     },
     "execution_count": 59,
     "metadata": {},
     "output_type": "execute_result"
    },
    {
     "data": {
      "image/png": "[encoded data removed]",
      "text/plain": [
       "<Figure size 432x288 with 1 Axes>"
      ]
     },
     "metadata": {
      "needs_background": "light"
     },
     "output_type": "display_data"
    }
   ],
   "source": [
    "_ = plt.hist(selected['M_i'].values, weights=np.ones_like(selected['r'].values)/area, bins=np.linspace(-30, -15, 30), edgecolor='k')\n",
    "print(\"M_i brightest: {:f}\".format(merged['M_i'].values.min()))\n",
    "plt.yscale('log', nonposy='clip')\n",
    "plt.ylim([1, 200])\n",
    "plt.ylabel(\"count/sq deg\")\n",
    "plt.xlabel(\"M_i (mag)\")"
   ]
  },
  {
   "cell_type": "markdown",
   "metadata": {},
   "source": [
    "## Distribution of rest-frame $\\tau$"
   ]
  },
  {
   "cell_type": "code",
   "execution_count": 60,
   "metadata": {},
   "outputs": [
    {
     "data": {
      "image/png": "[encoded data removed]",
      "text/plain": [
       "<Figure size 432x288 with 1 Axes>"
      ]
     },
     "metadata": {
      "needs_background": "light"
     },
     "output_type": "display_data"
    }
   ],
   "source": [
    "plotting_utils.plot_fig3_topleft(selected, duty_cycle_on=False)"
   ]
  },
  {
   "cell_type": "markdown",
   "metadata": {},
   "source": [
    "## Distribution of $SF_{\\infty}$"
   ]
  },
  {
   "cell_type": "code",
   "execution_count": null,
   "metadata": {},
   "outputs": [],
   "source": [
    "plotting_utils.plot_fig3_topright(selected)"
   ]
  },
  {
   "cell_type": "markdown",
   "metadata": {},
   "source": [
    "## $\\log \\tau$ vs. $\\log SF_\\infty$"
   ]
  },
  {
   "cell_type": "code",
   "execution_count": null,
   "metadata": {},
   "outputs": [],
   "source": [
    "plotting_utils.plot_fig3_bottom(merged, bandpass=None)"
   ]
  },
  {
   "cell_type": "code",
   "execution_count": null,
   "metadata": {},
   "outputs": [],
   "source": [
    "plotting_utils.plot_fig3_bottom(merged, bandpass='u')"
   ]
  },
  {
   "cell_type": "markdown",
   "metadata": {},
   "source": [
    "## Dependence on rest-frame wavelength"
   ]
  },
  {
   "cell_type": "markdown",
   "metadata": {},
   "source": [
    "As done in the paper, we query AGN that have been observed in at least two filters to explore the trends of the DRW parameters with rest-frame wavelength."
   ]
  },
  {
   "cell_type": "code",
   "execution_count": null,
   "metadata": {},
   "outputs": [],
   "source": [
    "# Get QSOs observed in at least two filters\n",
    "from collections import Counter\n",
    "\n",
    "counts = Counter(merged.id)\n",
    "lam_fit = merged[merged.id.isin([key for key in counts if counts[key] >= 2])].copy()"
   ]
  },
  {
   "cell_type": "markdown",
   "metadata": {},
   "source": [
    "The paper says the query leaves around 8000 AGN."
   ]
  },
  {
   "cell_type": "code",
   "execution_count": null,
   "metadata": {},
   "outputs": [],
   "source": [
    "lam_fit['id'].nunique()"
   ]
  },
  {
   "cell_type": "code",
   "execution_count": null,
   "metadata": {},
   "outputs": [],
   "source": [
    "# Fig 12 top left\n",
    "plotting_utils.plot_2d_hist_stats(lam_fit, \n",
    "                   colnames_2d=['mass_BH', 'M_i'],\n",
    "                   bins_2d=[np.arange(7.4, 11.0, 0.25), np.arange(-29, -22.5, 0.5)],\n",
    "                   invert_y_axis=True,\n",
    "                   colname_color='redshift',\n",
    "                   ticks_color=np.arange(0.5, 4.0, 0.5),\n",
    "                   invert_color=False,\n",
    "                   x_label='log(M_BH/M_sun)',\n",
    "                   y_label='M_i (mag)',\n",
    "                   color_label='redshift',\n",
    "                   cmap_name='jet')"
   ]
  },
  {
   "cell_type": "code",
   "execution_count": null,
   "metadata": {},
   "outputs": [],
   "source": [
    "# Fig 12 top right\n",
    "plotting_utils.plot_2d_hist_stats(lam_fit, \n",
    "                           colnames_2d=['mass_BH', 'M_i'],\n",
    "                           bins_2d=[np.arange(7.4, 11.0, 0.25), np.arange(-29.2, -22.5, 0.4)],\n",
    "                           invert_y_axis=True,\n",
    "                           colname_color='i',\n",
    "                           ticks_color=np.arange(17.5, 20.5, 0.5),\n",
    "                           invert_color=True,\n",
    "                           x_label='log(M_BH/M_sun)',\n",
    "                           y_label='M_i (mag)',\n",
    "                           color_label='i (mag)',\n",
    "                           cmap_name='jet_r')"
   ]
  },
  {
   "cell_type": "code",
   "execution_count": null,
   "metadata": {},
   "outputs": [],
   "source": [
    "# Fig 12 bottom left\n",
    "x = np.log10(lam_fit['redshift'].values + 1.0)\n",
    "y = lam_fit['M_i'].values\n",
    "x_bins = np.arange(0.05, 0.75, 0.05)\n",
    "y_bins = np.arange(-29.2, -22.5, 0.4)\n",
    "\n",
    "plotting_utils.plot_2d_hist(x, y, x_bins, y_bins,\n",
    "                   invert_y_axis=True,\n",
    "                   ticks_color=None,\n",
    "                   invert_color=False,\n",
    "                   log_color=True,\n",
    "                   x_label='log(1 + z)',\n",
    "                   y_label='M_i (mag)',\n",
    "                   color_label='log(N_bin)',\n",
    "                   cmap_name='jet')"
   ]
  },
  {
   "cell_type": "code",
   "execution_count": null,
   "metadata": {},
   "outputs": [],
   "source": [
    "# Fig 12 bottom right\n",
    "x = lam_fit['mass_BH'].values\n",
    "y = lam_fit['M_i'].values\n",
    "x_bins = np.arange(7.4, 11.0, 0.25)\n",
    "y_bins = np.arange(-29.2, -22.5, 0.4)\n",
    "\n",
    "plotting_utils.plot_2d_hist(x, y, x_bins, y_bins,\n",
    "                   invert_y_axis=True,\n",
    "                   ticks_color=None,\n",
    "                   invert_color=False,\n",
    "                   log_color=True,\n",
    "                   x_label='log(M_BH/M_sun)',\n",
    "                   y_label='M_i (mag)',\n",
    "                   color_label='log(N_bin)',\n",
    "                   cmap_name='jet')"
   ]
  },
  {
   "cell_type": "code",
   "execution_count": null,
   "metadata": {},
   "outputs": [],
   "source": [
    "# Fig 13 top\n",
    "plotting_utils.plot_fig13(lam_fit, 'log_rf_tau', [1, 3.7], 'log(tau/days)')"
   ]
  },
  {
   "cell_type": "code",
   "execution_count": null,
   "metadata": {},
   "outputs": [],
   "source": [
    "# Fig 13 bottom\n",
    "plotting_utils.plot_fig13(lam_fit, 'log_sf_inf', [-1.3, -0.3], 'log(SF_inf/mag)')"
   ]
  },
  {
   "cell_type": "markdown",
   "metadata": {},
   "source": [
    "## Dependence on luminosity, redshift, and black hole mass"
   ]
  },
  {
   "cell_type": "code",
   "execution_count": null,
   "metadata": {},
   "outputs": [],
   "source": [
    "# Fig 14 top left\n",
    "B_sf_inf = -0.479\n",
    "lam_fit['log_z_corr_inv'] = np.log10(1.0 + lam_fit['redshift'].values)\n",
    "lam_fit['log_sf_inf_corrected'] = lam_fit['log_sf_inf'].values - B_sf_inf*lam_fit['log_rf_wavelength'].values\n",
    "\n",
    "plotting_utils.plot_2d_hist_stats(lam_fit,\n",
    "                         colnames_2d=['log_z_corr_inv', 'M_i'],\n",
    "                         bins_2d=[np.arange(0.0, 0.8, 0.05), np.arange(-29.2, -22.5, 0.4)],\n",
    "                         invert_y_axis=True,\n",
    "                         colname_color='log_sf_inf_corrected',\n",
    "                         ticks_color=[-1.4, -1.2, -1.0, -0.8, -0.6, -0.5],\n",
    "                         invert_color=False,\n",
    "                         x_label='log(1 + z)',\n",
    "                         y_label='M_i (mag)',\n",
    "                         color_label='log(corrected SF_inf/mag)',\n",
    "                         cmap_name='jet')"
   ]
  },
  {
   "cell_type": "code",
   "execution_count": null,
   "metadata": {},
   "outputs": [],
   "source": [
    "# Fig 14 top right\n",
    "B_tau = 0.17\n",
    "lam_fit['log_rf_tau_corrected'] = lam_fit['log_rf_tau'].values - B_tau*lam_fit['log_rf_wavelength'].values\n",
    "\n",
    "plotting_utils.plot_2d_hist_stats(lam_fit,\n",
    "                         colnames_2d=['log_z_corr_inv', 'M_i'],\n",
    "                         bins_2d=[np.arange(0.0, 0.8, 0.05), np.arange(-29.2, -22.5, 0.4)],\n",
    "                         invert_y_axis=True,\n",
    "                         colname_color='log_rf_tau_corrected',\n",
    "                         ticks_color=[1.7, 1.8, 2.0, 2.2, 2.4, 2.6, 2.7],\n",
    "                         invert_color=False,\n",
    "                         x_label='log(1 + z)',\n",
    "                         y_label='M_i (mag)',\n",
    "                         color_label='log(corrected tau/days)',\n",
    "                         cmap_name='jet')"
   ]
  },
  {
   "cell_type": "code",
   "execution_count": null,
   "metadata": {},
   "outputs": [],
   "source": [
    "# Fig 14 bottom left\n",
    "plotting_utils.plot_2d_hist_stats(lam_fit,\n",
    "                         colnames_2d=['mass_BH', 'M_i'],\n",
    "                         bins_2d=[np.arange(7.4, 11.0, 0.25), np.arange(-29.2, -22.5, 0.4)],\n",
    "                         invert_y_axis=True,\n",
    "                         colname_color='log_sf_inf_corrected',\n",
    "                         ticks_color=[-1.4, -1.2, -1.0, -0.8, -0.6, -0.5],\n",
    "                         invert_color=False,\n",
    "                         x_label='log(M_BH/M_sun)',\n",
    "                         y_label='M_i (mag)',\n",
    "                         color_label='log(corrected SF_inf/mag)',\n",
    "                         cmap_name='jet')"
   ]
  },
  {
   "cell_type": "code",
   "execution_count": null,
   "metadata": {},
   "outputs": [],
   "source": [
    "# Fig 14 bottom right\n",
    "plotting_utils.plot_2d_hist_stats(lam_fit,\n",
    "                         colnames_2d=['mass_BH', 'M_i'],\n",
    "                         bins_2d=[np.arange(7.4, 11.0, 0.25), np.arange(-29.2, -22.5, 0.4)],\n",
    "                         invert_y_axis=True,\n",
    "                         colname_color='log_rf_tau_corrected',\n",
    "                         ticks_color=[1.7, 1.8, 2.0, 2.2, 2.4, 2.6, 2.7],\n",
    "                         invert_color=False,\n",
    "                         x_label='log(M_BH/M_sun)',\n",
    "                         y_label='M_i (mag)',\n",
    "                         color_label='log(corrected tau/days)',\n",
    "                         cmap_name='jet')"
   ]
  },
  {
   "cell_type": "markdown",
   "metadata": {},
   "source": [
    "## Eddington ratio partly drives variability"
   ]
  },
  {
   "cell_type": "code",
   "execution_count": null,
   "metadata": {},
   "outputs": [],
   "source": [
    "# Fig 15 left\n",
    "log_L_edd = np.log10(1.5) + 38.0 + lam_fit['mass_BH'].values # approximation used by MacLeod et al 2010, in erg/s\n",
    "lam_fit['log_edd_ratio'] = lam_fit['Lbol'].values - log_L_edd\n",
    "plotting_utils.plot_2d_hist_stats(lam_fit,\n",
    "                         colnames_2d=['mass_BH', 'M_i'],\n",
    "                         bins_2d=[np.arange(7.4, 11.0, 0.25), np.arange(-29.2, -22.5, 0.4)],\n",
    "                         invert_y_axis=True,\n",
    "                         colname_color='log_edd_ratio',\n",
    "                         ticks_color=[-2.0, -1.5, -1.0, -0.5, 0.0, 0.5],\n",
    "                         invert_color=False,\n",
    "                         x_label='log(M_BH/M_sun)',\n",
    "                         y_label='M_i (mag)',\n",
    "                         color_label='log(L/L_edd)',\n",
    "                         cmap_name='jet')"
   ]
  },
  {
   "cell_type": "code",
   "execution_count": null,
   "metadata": {},
   "outputs": [],
   "source": [
    "# Fig 15 right\n",
    "\n",
    "plotting_utils.plot_2d_hist(lam_fit['log_edd_ratio'].values,\n",
    "                   lam_fit['log_sf_inf_corrected'].values,\n",
    "                   np.arange(-2.5, 0.5, 0.1),\n",
    "                   np.arange(-1.4, -0.4, 0.05),\n",
    "                   invert_y_axis=False,\n",
    "                   ticks_color=None,\n",
    "                   invert_color=False,\n",
    "                   log_color=False,\n",
    "                   x_label='log(L/L_edd)', \n",
    "                   y_label='log(corrected SF_inf/mag)',\n",
    "                   color_label='N',\n",
    "                   cmap_name='jet')"
   ]
  },
  {
   "cell_type": "markdown",
   "metadata": {},
   "source": [
    "## Additional plots for comparison"
   ]
  },
  {
   "cell_type": "code",
   "execution_count": null,
   "metadata": {},
   "outputs": [],
   "source": [
    "plotting_utils.plot_2d_hist(lam_fit['log_edd_ratio'].values,\n",
    "                   lam_fit['mass_BH'].values,\n",
    "                   np.arange(-2.5, 0.5, 0.2),\n",
    "                   np.arange(7.4, 11.0, 0.25),\n",
    "                   invert_y_axis=False,\n",
    "                   ticks_color=None,\n",
    "                   invert_color=False,\n",
    "                   log_color=True,\n",
    "                   x_label='log(L/L_edd)', \n",
    "                   y_label='log(M_BH/M_sun)',\n",
    "                   color_label='log N',\n",
    "                   cmap_name='jet')"
   ]
  },
  {
   "cell_type": "code",
   "execution_count": null,
   "metadata": {},
   "outputs": [],
   "source": [
    "plotting_utils.plot_2d_hist(lam_fit['redshift'].values,\n",
    "                   lam_fit['log_edd_ratio'].values,\n",
    "                            np.arange(0.0, 3.0, 0.2),\n",
    "                   np.arange(-2.5, 0.5, 0.2),\n",
    "                  \n",
    "                   invert_y_axis=False,\n",
    "                   ticks_color=None,\n",
    "                   invert_color=False,\n",
    "                   log_color=True,\n",
    "                   x_label='redshift', \n",
    "                   y_label='log(L/L_edd)',\n",
    "                   color_label='log N',\n",
    "                   cmap_name='jet')"
   ]
  },
  {
   "cell_type": "code",
   "execution_count": null,
   "metadata": {},
   "outputs": [],
   "source": [
    "plotting_utils.plot_2d_hist(np.log10(1.0 + lam_fit['redshift'].values),\n",
    "                   lam_fit['log_edd_ratio'].values,\n",
    "                            np.arange(0.0, 0.8, 0.05),\n",
    "                   np.arange(-2.5, 0.5, 0.2),\n",
    "                  \n",
    "                   invert_y_axis=False,\n",
    "                   ticks_color=None,\n",
    "                   invert_color=False,\n",
    "                   log_color=True,\n",
    "                   x_label='log(1 + z)', \n",
    "                   y_label='log(L/L_edd)',\n",
    "                   color_label='log N',\n",
    "                   cmap_name='jet')"
   ]
  },
  {
   "cell_type": "markdown",
   "metadata": {},
   "source": [
    "## Likelihood of black hole mass"
   ]
  },
  {
   "cell_type": "code",
   "execution_count": null,
   "metadata": {},
   "outputs": [],
   "source": [
    "_, binning, _ = plt.hist(merged['mass_BH'].values,\n",
    "                         bins=50, color='tab:blue', range=[7, 10.5], edgecolor='k', alpha=0.5)\n",
    "plt.ylabel('count')\n",
    "plt.xlabel('log(M_BH/M_sun)')"
   ]
  },
  {
   "cell_type": "code",
   "execution_count": null,
   "metadata": {},
   "outputs": [],
   "source": [
    "# Fig 16 top\n",
    "_, binning, _ = plt.hist(merged[(merged['M_i'] > -28.5) & (merged['M_i'] < -27.5)]['mass_BH'].values,\n",
    "                         bins=np.arange(8.5, 10.5, 0.1), color='tab:blue', edgecolor='k', alpha=0.5, label='M_i=-28')\n",
    "plt.ylabel('count')\n",
    "plt.xlabel('log(M_BH/M_sun)')\n",
    "plt.legend()"
   ]
  },
  {
   "cell_type": "code",
   "execution_count": null,
   "metadata": {},
   "outputs": [],
   "source": [
    "# Fig 16 second\n",
    "_, binning, _ = plt.hist(merged[(merged['M_i'] > -26.5) & (merged['M_i'] < -25.5)]['mass_BH'].values,\n",
    "                         bins=np.arange(7.5, 10.5, 0.1), color='tab:blue', edgecolor='k', alpha=0.5, label='M_i=-26')\n",
    "plt.ylabel('count')\n",
    "plt.xlabel('log(M_BH/M_sun)')\n",
    "plt.legend()"
   ]
  },
  {
   "cell_type": "code",
   "execution_count": null,
   "metadata": {},
   "outputs": [],
   "source": [
    "# Fig 16 third\n",
    "_, binning, _ = plt.hist(merged[(merged['M_i'] > -24.5) & (merged['M_i'] < -23.5)]['mass_BH'].values,\n",
    "                         bins=np.arange(7.5, 10.5, 0.1), color='tab:blue', edgecolor='k', alpha=0.5, label='M_i=-24')\n",
    "plt.ylabel('count')\n",
    "plt.xlabel('log(M_BH/M_sun)')\n",
    "plt.legend()"
   ]
  }
 ],
 "metadata": {
  "kernelspec": {
   "display_name": "desc-stack",
   "language": "python",
   "name": "desc-stack"
  },
  "language_info": {
   "codemirror_mode": {
    "name": "ipython",
    "version": 3
   },
   "file_extension": ".py",
   "mimetype": "text/x-python",
   "name": "python",
   "nbconvert_exporter": "python",
   "pygments_lexer": "ipython3",
   "version": "3.7.5"
  }
 },
 "nbformat": 4,
 "nbformat_minor": 4
}
